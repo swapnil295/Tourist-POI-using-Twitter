{
 "cells": [
  {
   "cell_type": "code",
   "execution_count": null,
   "metadata": {},
   "outputs": [],
   "source": [
    "import pandas as pd\n",
    "import numpy as np\n",
    "import matplotlib.pyplot as plt\n",
    "from sklearn.cluster import KMeans\n",
    "import seaborn as sns; sns.set()\n",
    "import csv\n"
   ]
  },
  {
   "cell_type": "code",
   "execution_count": 2,
   "metadata": {},
   "outputs": [],
   "source": [
    "df = pd.read_csv('delhi_w1_new_poojaesthetic_tweets.csv', encoding='utf-8')"
   ]
  },
  {
   "cell_type": "code",
   "execution_count": 28,
   "metadata": {},
   "outputs": [
    {
     "ename": "KeyError",
     "evalue": "\"Passing list-likes to .loc or [] with any missing labels is no longer supported. The following labels were missing: Index(['LAT', 'LON'], dtype='object'). See https://pandas.pydata.org/pandas-docs/stable/user_guide/indexing.html#deprecate-loc-reindex-listlike\"",
     "output_type": "error",
     "traceback": [
      "\u001b[1;31m---------------------------------------------------------------------------\u001b[0m",
      "\u001b[1;31mKeyError\u001b[0m                                  Traceback (most recent call last)",
      "\u001b[1;32m<ipython-input-28-2d897e5a0d72>\u001b[0m in \u001b[0;36m<module>\u001b[1;34m\u001b[0m\n\u001b[0;32m      1\u001b[0m \u001b[1;31m# Variable with the Longitude and Latitude\u001b[0m\u001b[1;33m\u001b[0m\u001b[1;33m\u001b[0m\u001b[1;33m\u001b[0m\u001b[0m\n\u001b[1;32m----> 2\u001b[1;33m \u001b[0mX\u001b[0m\u001b[1;33m=\u001b[0m\u001b[0mdf\u001b[0m\u001b[1;33m.\u001b[0m\u001b[0mloc\u001b[0m\u001b[1;33m[\u001b[0m\u001b[1;33m:\u001b[0m\u001b[1;33m,\u001b[0m\u001b[1;33m[\u001b[0m\u001b[1;34m'id'\u001b[0m\u001b[1;33m,\u001b[0m\u001b[1;34m'LAT'\u001b[0m\u001b[1;33m,\u001b[0m\u001b[1;34m'LON'\u001b[0m\u001b[1;33m]\u001b[0m\u001b[1;33m]\u001b[0m\u001b[1;33m\u001b[0m\u001b[1;33m\u001b[0m\u001b[0m\n\u001b[0m\u001b[0;32m      3\u001b[0m \u001b[0mX\u001b[0m\u001b[1;33m.\u001b[0m\u001b[0mhead\u001b[0m\u001b[1;33m(\u001b[0m\u001b[1;36m10\u001b[0m\u001b[1;33m)\u001b[0m\u001b[1;33m\u001b[0m\u001b[1;33m\u001b[0m\u001b[0m\n",
      "\u001b[1;32m~\\Anaconda3\\lib\\site-packages\\pandas\\core\\indexing.py\u001b[0m in \u001b[0;36m__getitem__\u001b[1;34m(self, key)\u001b[0m\n\u001b[0;32m    871\u001b[0m                     \u001b[1;31m# AttributeError for IntervalTree get_value\u001b[0m\u001b[1;33m\u001b[0m\u001b[1;33m\u001b[0m\u001b[1;33m\u001b[0m\u001b[0m\n\u001b[0;32m    872\u001b[0m                     \u001b[1;32mpass\u001b[0m\u001b[1;33m\u001b[0m\u001b[1;33m\u001b[0m\u001b[0m\n\u001b[1;32m--> 873\u001b[1;33m             \u001b[1;32mreturn\u001b[0m \u001b[0mself\u001b[0m\u001b[1;33m.\u001b[0m\u001b[0m_getitem_tuple\u001b[0m\u001b[1;33m(\u001b[0m\u001b[0mkey\u001b[0m\u001b[1;33m)\u001b[0m\u001b[1;33m\u001b[0m\u001b[1;33m\u001b[0m\u001b[0m\n\u001b[0m\u001b[0;32m    874\u001b[0m         \u001b[1;32melse\u001b[0m\u001b[1;33m:\u001b[0m\u001b[1;33m\u001b[0m\u001b[1;33m\u001b[0m\u001b[0m\n\u001b[0;32m    875\u001b[0m             \u001b[1;31m# we by definition only have the 0th axis\u001b[0m\u001b[1;33m\u001b[0m\u001b[1;33m\u001b[0m\u001b[1;33m\u001b[0m\u001b[0m\n",
      "\u001b[1;32m~\\Anaconda3\\lib\\site-packages\\pandas\\core\\indexing.py\u001b[0m in \u001b[0;36m_getitem_tuple\u001b[1;34m(self, tup)\u001b[0m\n\u001b[0;32m   1053\u001b[0m             \u001b[1;32mreturn\u001b[0m \u001b[0mself\u001b[0m\u001b[1;33m.\u001b[0m\u001b[0m_multi_take\u001b[0m\u001b[1;33m(\u001b[0m\u001b[0mtup\u001b[0m\u001b[1;33m)\u001b[0m\u001b[1;33m\u001b[0m\u001b[1;33m\u001b[0m\u001b[0m\n\u001b[0;32m   1054\u001b[0m \u001b[1;33m\u001b[0m\u001b[0m\n\u001b[1;32m-> 1055\u001b[1;33m         \u001b[1;32mreturn\u001b[0m \u001b[0mself\u001b[0m\u001b[1;33m.\u001b[0m\u001b[0m_getitem_tuple_same_dim\u001b[0m\u001b[1;33m(\u001b[0m\u001b[0mtup\u001b[0m\u001b[1;33m)\u001b[0m\u001b[1;33m\u001b[0m\u001b[1;33m\u001b[0m\u001b[0m\n\u001b[0m\u001b[0;32m   1056\u001b[0m \u001b[1;33m\u001b[0m\u001b[0m\n\u001b[0;32m   1057\u001b[0m     \u001b[1;32mdef\u001b[0m \u001b[0m_get_label\u001b[0m\u001b[1;33m(\u001b[0m\u001b[0mself\u001b[0m\u001b[1;33m,\u001b[0m \u001b[0mlabel\u001b[0m\u001b[1;33m,\u001b[0m \u001b[0maxis\u001b[0m\u001b[1;33m:\u001b[0m \u001b[0mint\u001b[0m\u001b[1;33m)\u001b[0m\u001b[1;33m:\u001b[0m\u001b[1;33m\u001b[0m\u001b[1;33m\u001b[0m\u001b[0m\n",
      "\u001b[1;32m~\\Anaconda3\\lib\\site-packages\\pandas\\core\\indexing.py\u001b[0m in \u001b[0;36m_getitem_tuple_same_dim\u001b[1;34m(self, tup)\u001b[0m\n\u001b[0;32m    748\u001b[0m                 \u001b[1;32mcontinue\u001b[0m\u001b[1;33m\u001b[0m\u001b[1;33m\u001b[0m\u001b[0m\n\u001b[0;32m    749\u001b[0m \u001b[1;33m\u001b[0m\u001b[0m\n\u001b[1;32m--> 750\u001b[1;33m             \u001b[0mretval\u001b[0m \u001b[1;33m=\u001b[0m \u001b[0mgetattr\u001b[0m\u001b[1;33m(\u001b[0m\u001b[0mretval\u001b[0m\u001b[1;33m,\u001b[0m \u001b[0mself\u001b[0m\u001b[1;33m.\u001b[0m\u001b[0mname\u001b[0m\u001b[1;33m)\u001b[0m\u001b[1;33m.\u001b[0m\u001b[0m_getitem_axis\u001b[0m\u001b[1;33m(\u001b[0m\u001b[0mkey\u001b[0m\u001b[1;33m,\u001b[0m \u001b[0maxis\u001b[0m\u001b[1;33m=\u001b[0m\u001b[0mi\u001b[0m\u001b[1;33m)\u001b[0m\u001b[1;33m\u001b[0m\u001b[1;33m\u001b[0m\u001b[0m\n\u001b[0m\u001b[0;32m    751\u001b[0m             \u001b[1;31m# We should never have retval.ndim < self.ndim, as that should\u001b[0m\u001b[1;33m\u001b[0m\u001b[1;33m\u001b[0m\u001b[1;33m\u001b[0m\u001b[0m\n\u001b[0;32m    752\u001b[0m             \u001b[1;31m#  be handled by the _getitem_lowerdim call above.\u001b[0m\u001b[1;33m\u001b[0m\u001b[1;33m\u001b[0m\u001b[1;33m\u001b[0m\u001b[0m\n",
      "\u001b[1;32m~\\Anaconda3\\lib\\site-packages\\pandas\\core\\indexing.py\u001b[0m in \u001b[0;36m_getitem_axis\u001b[1;34m(self, key, axis)\u001b[0m\n\u001b[0;32m   1097\u001b[0m                     \u001b[1;32mraise\u001b[0m \u001b[0mValueError\u001b[0m\u001b[1;33m(\u001b[0m\u001b[1;34m\"Cannot index with multidimensional key\"\u001b[0m\u001b[1;33m)\u001b[0m\u001b[1;33m\u001b[0m\u001b[1;33m\u001b[0m\u001b[0m\n\u001b[0;32m   1098\u001b[0m \u001b[1;33m\u001b[0m\u001b[0m\n\u001b[1;32m-> 1099\u001b[1;33m                 \u001b[1;32mreturn\u001b[0m \u001b[0mself\u001b[0m\u001b[1;33m.\u001b[0m\u001b[0m_getitem_iterable\u001b[0m\u001b[1;33m(\u001b[0m\u001b[0mkey\u001b[0m\u001b[1;33m,\u001b[0m \u001b[0maxis\u001b[0m\u001b[1;33m=\u001b[0m\u001b[0maxis\u001b[0m\u001b[1;33m)\u001b[0m\u001b[1;33m\u001b[0m\u001b[1;33m\u001b[0m\u001b[0m\n\u001b[0m\u001b[0;32m   1100\u001b[0m \u001b[1;33m\u001b[0m\u001b[0m\n\u001b[0;32m   1101\u001b[0m             \u001b[1;31m# nested tuple slicing\u001b[0m\u001b[1;33m\u001b[0m\u001b[1;33m\u001b[0m\u001b[1;33m\u001b[0m\u001b[0m\n",
      "\u001b[1;32m~\\Anaconda3\\lib\\site-packages\\pandas\\core\\indexing.py\u001b[0m in \u001b[0;36m_getitem_iterable\u001b[1;34m(self, key, axis)\u001b[0m\n\u001b[0;32m   1035\u001b[0m \u001b[1;33m\u001b[0m\u001b[0m\n\u001b[0;32m   1036\u001b[0m         \u001b[1;31m# A collection of keys\u001b[0m\u001b[1;33m\u001b[0m\u001b[1;33m\u001b[0m\u001b[1;33m\u001b[0m\u001b[0m\n\u001b[1;32m-> 1037\u001b[1;33m         \u001b[0mkeyarr\u001b[0m\u001b[1;33m,\u001b[0m \u001b[0mindexer\u001b[0m \u001b[1;33m=\u001b[0m \u001b[0mself\u001b[0m\u001b[1;33m.\u001b[0m\u001b[0m_get_listlike_indexer\u001b[0m\u001b[1;33m(\u001b[0m\u001b[0mkey\u001b[0m\u001b[1;33m,\u001b[0m \u001b[0maxis\u001b[0m\u001b[1;33m,\u001b[0m \u001b[0mraise_missing\u001b[0m\u001b[1;33m=\u001b[0m\u001b[1;32mFalse\u001b[0m\u001b[1;33m)\u001b[0m\u001b[1;33m\u001b[0m\u001b[1;33m\u001b[0m\u001b[0m\n\u001b[0m\u001b[0;32m   1038\u001b[0m         return self.obj._reindex_with_indexers(\n\u001b[0;32m   1039\u001b[0m             \u001b[1;33m{\u001b[0m\u001b[0maxis\u001b[0m\u001b[1;33m:\u001b[0m \u001b[1;33m[\u001b[0m\u001b[0mkeyarr\u001b[0m\u001b[1;33m,\u001b[0m \u001b[0mindexer\u001b[0m\u001b[1;33m]\u001b[0m\u001b[1;33m}\u001b[0m\u001b[1;33m,\u001b[0m \u001b[0mcopy\u001b[0m\u001b[1;33m=\u001b[0m\u001b[1;32mTrue\u001b[0m\u001b[1;33m,\u001b[0m \u001b[0mallow_dups\u001b[0m\u001b[1;33m=\u001b[0m\u001b[1;32mTrue\u001b[0m\u001b[1;33m\u001b[0m\u001b[1;33m\u001b[0m\u001b[0m\n",
      "\u001b[1;32m~\\Anaconda3\\lib\\site-packages\\pandas\\core\\indexing.py\u001b[0m in \u001b[0;36m_get_listlike_indexer\u001b[1;34m(self, key, axis, raise_missing)\u001b[0m\n\u001b[0;32m   1252\u001b[0m             \u001b[0mkeyarr\u001b[0m\u001b[1;33m,\u001b[0m \u001b[0mindexer\u001b[0m\u001b[1;33m,\u001b[0m \u001b[0mnew_indexer\u001b[0m \u001b[1;33m=\u001b[0m \u001b[0max\u001b[0m\u001b[1;33m.\u001b[0m\u001b[0m_reindex_non_unique\u001b[0m\u001b[1;33m(\u001b[0m\u001b[0mkeyarr\u001b[0m\u001b[1;33m)\u001b[0m\u001b[1;33m\u001b[0m\u001b[1;33m\u001b[0m\u001b[0m\n\u001b[0;32m   1253\u001b[0m \u001b[1;33m\u001b[0m\u001b[0m\n\u001b[1;32m-> 1254\u001b[1;33m         \u001b[0mself\u001b[0m\u001b[1;33m.\u001b[0m\u001b[0m_validate_read_indexer\u001b[0m\u001b[1;33m(\u001b[0m\u001b[0mkeyarr\u001b[0m\u001b[1;33m,\u001b[0m \u001b[0mindexer\u001b[0m\u001b[1;33m,\u001b[0m \u001b[0maxis\u001b[0m\u001b[1;33m,\u001b[0m \u001b[0mraise_missing\u001b[0m\u001b[1;33m=\u001b[0m\u001b[0mraise_missing\u001b[0m\u001b[1;33m)\u001b[0m\u001b[1;33m\u001b[0m\u001b[1;33m\u001b[0m\u001b[0m\n\u001b[0m\u001b[0;32m   1255\u001b[0m         \u001b[1;32mreturn\u001b[0m \u001b[0mkeyarr\u001b[0m\u001b[1;33m,\u001b[0m \u001b[0mindexer\u001b[0m\u001b[1;33m\u001b[0m\u001b[1;33m\u001b[0m\u001b[0m\n\u001b[0;32m   1256\u001b[0m \u001b[1;33m\u001b[0m\u001b[0m\n",
      "\u001b[1;32m~\\Anaconda3\\lib\\site-packages\\pandas\\core\\indexing.py\u001b[0m in \u001b[0;36m_validate_read_indexer\u001b[1;34m(self, key, indexer, axis, raise_missing)\u001b[0m\n\u001b[0;32m   1314\u001b[0m                 \u001b[1;32mwith\u001b[0m \u001b[0moption_context\u001b[0m\u001b[1;33m(\u001b[0m\u001b[1;34m\"display.max_seq_items\"\u001b[0m\u001b[1;33m,\u001b[0m \u001b[1;36m10\u001b[0m\u001b[1;33m,\u001b[0m \u001b[1;34m\"display.width\"\u001b[0m\u001b[1;33m,\u001b[0m \u001b[1;36m80\u001b[0m\u001b[1;33m)\u001b[0m\u001b[1;33m:\u001b[0m\u001b[1;33m\u001b[0m\u001b[1;33m\u001b[0m\u001b[0m\n\u001b[0;32m   1315\u001b[0m                     raise KeyError(\n\u001b[1;32m-> 1316\u001b[1;33m                         \u001b[1;34m\"Passing list-likes to .loc or [] with any missing labels \"\u001b[0m\u001b[1;33m\u001b[0m\u001b[1;33m\u001b[0m\u001b[0m\n\u001b[0m\u001b[0;32m   1317\u001b[0m                         \u001b[1;34m\"is no longer supported. \"\u001b[0m\u001b[1;33m\u001b[0m\u001b[1;33m\u001b[0m\u001b[0m\n\u001b[0;32m   1318\u001b[0m                         \u001b[1;34mf\"The following labels were missing: {not_found}. \"\u001b[0m\u001b[1;33m\u001b[0m\u001b[1;33m\u001b[0m\u001b[0m\n",
      "\u001b[1;31mKeyError\u001b[0m: \"Passing list-likes to .loc or [] with any missing labels is no longer supported. The following labels were missing: Index(['LAT', 'LON'], dtype='object'). See https://pandas.pydata.org/pandas-docs/stable/user_guide/indexing.html#deprecate-loc-reindex-listlike\""
     ]
    }
   ],
   "source": []
  },
  {
   "cell_type": "code",
   "execution_count": 3,
   "metadata": {},
   "outputs": [],
   "source": [
    "    import pandas as pd\n",
    "    import datetime\n",
    "    from shapely.geometry import Point, Polygon\n",
    "    import datetime\n",
    "    from shapely import wkt\n",
    "    import geopandas as gpd"
   ]
  },
  {
   "cell_type": "code",
   "execution_count": null,
   "metadata": {},
   "outputs": [],
   "source": [
    "\n",
    "\n",
    "            "
   ]
  },
  {
   "cell_type": "code",
   "execution_count": 5,
   "metadata": {},
   "outputs": [],
   "source": [
    "    df = pd.read_csv(r'combined_residents.csv', encoding='utf-8')\n",
    "    df[df['coordinates'].notna()]\n",
    "    df['coordinates'] = df.coordinates.str.replace('type,?' , '')\n",
    "    df['coordinates'] = df.coordinates.str.replace('Point,?' , '')\n",
    "    df['coordinates'] = df.coordinates.str.replace('coordinates,?' , '')\n",
    "    df['coordinates'] = df.coordinates.str.replace('{,?' , '')\n",
    "    df['coordinates'] = df.coordinates.str.replace(':,?' , '')\n",
    "    df['coordinates'] = df.coordinates.str.replace('\\],?' , '')\n",
    "    df['coordinates'] = df.coordinates.str.replace(',?' , '')\n",
    "    df['coordinates'] = df.coordinates.str.replace('},?' , '')\n",
    "    df['coordinates'] = df.coordinates.str.replace(\"'',?\" , \"\")\n",
    "    df['coordinates'] = df.coordinates.str.replace('\\[,?' , '')\n",
    "    df[['a','b','c','LON','LAT']] = df.coordinates.str.split(\" \",expand=True,)\n",
    "    df.drop(['a', 'b','c'], axis = 1)\n",
    "    df.dropna(subset = [\"LAT\"], inplace=True)\n",
    "    df['LON'] = pd.to_numeric(df['LON'],errors='coerce')\n",
    "    df['LAT'] = pd.to_numeric(df['LAT'],errors='coerce')\n",
    "    df.dropna(subset = [\"LAT\"], inplace=True)\n",
    "    "
   ]
  },
  {
   "cell_type": "code",
   "execution_count": 6,
   "metadata": {},
   "outputs": [],
   "source": [
    "    from shapely.geometry import Point, Polygon\n",
    "    import datetime\n",
    "    from shapely import wkt\n",
    "    import geopandas as gpd\n",
    "    from shapely.geometry import Point, Polygon\n",
    "    def check(p):\n",
    "        from shapely.geometry import Point, Polygon\n",
    "        # Create a Polygon\n",
    "        coords = coords = [(77.15, 28.45), (77.30, 28.45), (77.15, 29), (77.30, 29)]\n",
    "        poly = Polygon(coords)\n",
    "        y = p.within(poly)\n",
    "        return(y)\n",
    "    gdf = gpd.GeoDataFrame(df, geometry=gpd.points_from_xy(df.LON, df.LAT))\n",
    "    df['val']=df['geometry'].apply(check)\n",
    "\n",
    "    \n",
    "    \n",
    "\n"
   ]
  },
  {
   "cell_type": "code",
   "execution_count": 7,
   "metadata": {},
   "outputs": [
    {
     "data": {
      "text/html": [
       "<div>\n",
       "<style scoped>\n",
       "    .dataframe tbody tr th:only-of-type {\n",
       "        vertical-align: middle;\n",
       "    }\n",
       "\n",
       "    .dataframe tbody tr th {\n",
       "        vertical-align: top;\n",
       "    }\n",
       "\n",
       "    .dataframe thead th {\n",
       "        text-align: right;\n",
       "    }\n",
       "</style>\n",
       "<table border=\"1\" class=\"dataframe\">\n",
       "  <thead>\n",
       "    <tr style=\"text-align: right;\">\n",
       "      <th></th>\n",
       "      <th>id</th>\n",
       "      <th>created_at</th>\n",
       "      <th>text</th>\n",
       "      <th>coordinates</th>\n",
       "      <th>user_described_location</th>\n",
       "      <th>a</th>\n",
       "      <th>b</th>\n",
       "      <th>c</th>\n",
       "      <th>LON</th>\n",
       "      <th>LAT</th>\n",
       "      <th>geometry</th>\n",
       "      <th>val</th>\n",
       "    </tr>\n",
       "  </thead>\n",
       "  <tbody>\n",
       "    <tr>\n",
       "      <th>12</th>\n",
       "      <td>1311073726755151882</td>\n",
       "      <td>2020-09-29 22:41:49</td>\n",
       "      <td>Just posted a photo @ Delhi, India https://t.c...</td>\n",
       "      <td>77.219672 28.631747</td>\n",
       "      <td>NaN</td>\n",
       "      <td></td>\n",
       "      <td></td>\n",
       "      <td></td>\n",
       "      <td>77.219672</td>\n",
       "      <td>28.631747</td>\n",
       "      <td>POINT (77.21967 28.63175)</td>\n",
       "      <td>True</td>\n",
       "    </tr>\n",
       "    <tr>\n",
       "      <th>13</th>\n",
       "      <td>1311073457854189568</td>\n",
       "      <td>2020-09-29 22:40:45</td>\n",
       "      <td>Just posted a photo @ Delhi, India https://t.c...</td>\n",
       "      <td>77.219672 28.631747</td>\n",
       "      <td>NaN</td>\n",
       "      <td></td>\n",
       "      <td></td>\n",
       "      <td></td>\n",
       "      <td>77.219672</td>\n",
       "      <td>28.631747</td>\n",
       "      <td>POINT (77.21967 28.63175)</td>\n",
       "      <td>True</td>\n",
       "    </tr>\n",
       "    <tr>\n",
       "      <th>14</th>\n",
       "      <td>1311073146590711808</td>\n",
       "      <td>2020-09-29 22:39:31</td>\n",
       "      <td>Just posted a photo @ Delhi, India https://t.c...</td>\n",
       "      <td>77.219672 28.631747</td>\n",
       "      <td>NaN</td>\n",
       "      <td></td>\n",
       "      <td></td>\n",
       "      <td></td>\n",
       "      <td>77.219672</td>\n",
       "      <td>28.631747</td>\n",
       "      <td>POINT (77.21967 28.63175)</td>\n",
       "      <td>True</td>\n",
       "    </tr>\n",
       "    <tr>\n",
       "      <th>15</th>\n",
       "      <td>1311072899659427845</td>\n",
       "      <td>2020-09-29 22:38:32</td>\n",
       "      <td>Just posted a photo @ Delhi, India https://t.c...</td>\n",
       "      <td>77.219672 28.631747</td>\n",
       "      <td>NaN</td>\n",
       "      <td></td>\n",
       "      <td></td>\n",
       "      <td></td>\n",
       "      <td>77.219672</td>\n",
       "      <td>28.631747</td>\n",
       "      <td>POINT (77.21967 28.63175)</td>\n",
       "      <td>True</td>\n",
       "    </tr>\n",
       "    <tr>\n",
       "      <th>16</th>\n",
       "      <td>1311072586177163271</td>\n",
       "      <td>2020-09-29 22:37:17</td>\n",
       "      <td>Just posted a photo @ Delhi, India https://t.c...</td>\n",
       "      <td>77.219672 28.631747</td>\n",
       "      <td>NaN</td>\n",
       "      <td></td>\n",
       "      <td></td>\n",
       "      <td></td>\n",
       "      <td>77.219672</td>\n",
       "      <td>28.631747</td>\n",
       "      <td>POINT (77.21967 28.63175)</td>\n",
       "      <td>True</td>\n",
       "    </tr>\n",
       "    <tr>\n",
       "      <th>...</th>\n",
       "      <td>...</td>\n",
       "      <td>...</td>\n",
       "      <td>...</td>\n",
       "      <td>...</td>\n",
       "      <td>...</td>\n",
       "      <td>...</td>\n",
       "      <td>...</td>\n",
       "      <td>...</td>\n",
       "      <td>...</td>\n",
       "      <td>...</td>\n",
       "      <td>...</td>\n",
       "      <td>...</td>\n",
       "    </tr>\n",
       "    <tr>\n",
       "      <th>721516</th>\n",
       "      <td>1022694031954989056</td>\n",
       "      <td>2018-07-27 04:03:52</td>\n",
       "      <td>Studio  Opening soon Freinds.. #ysipa #yuvhraj...</td>\n",
       "      <td>77.2089 28.6139</td>\n",
       "      <td>NaN</td>\n",
       "      <td></td>\n",
       "      <td></td>\n",
       "      <td></td>\n",
       "      <td>77.208900</td>\n",
       "      <td>28.613900</td>\n",
       "      <td>POINT (77.20890 28.61390)</td>\n",
       "      <td>True</td>\n",
       "    </tr>\n",
       "    <tr>\n",
       "      <th>721519</th>\n",
       "      <td>1022446299705225217</td>\n",
       "      <td>2018-07-26 11:39:28</td>\n",
       "      <td>Studio  Opening soon Freinds.. #ysipa #yuvhraj...</td>\n",
       "      <td>77.219672 28.631747</td>\n",
       "      <td>NaN</td>\n",
       "      <td></td>\n",
       "      <td></td>\n",
       "      <td></td>\n",
       "      <td>77.219672</td>\n",
       "      <td>28.631747</td>\n",
       "      <td>POINT (77.21967 28.63175)</td>\n",
       "      <td>True</td>\n",
       "    </tr>\n",
       "    <tr>\n",
       "      <th>722638</th>\n",
       "      <td>1316469492860383232</td>\n",
       "      <td>2020-10-14 20:02:40</td>\n",
       "      <td>ＧＯＬＤＥＮ @ Somewhere on Planet Earth https://t.c...</td>\n",
       "      <td>77.21728 28.63096</td>\n",
       "      <td>NaN</td>\n",
       "      <td></td>\n",
       "      <td></td>\n",
       "      <td></td>\n",
       "      <td>77.217280</td>\n",
       "      <td>28.630960</td>\n",
       "      <td>POINT (77.21728 28.63096)</td>\n",
       "      <td>True</td>\n",
       "    </tr>\n",
       "    <tr>\n",
       "      <th>722639</th>\n",
       "      <td>1316338359237783552</td>\n",
       "      <td>2020-10-14 11:21:35</td>\n",
       "      <td>ＳＨＩＮＥ @ Somewhere on Planet Earth https://t.co...</td>\n",
       "      <td>77.21728 28.63096</td>\n",
       "      <td>NaN</td>\n",
       "      <td></td>\n",
       "      <td></td>\n",
       "      <td></td>\n",
       "      <td>77.217280</td>\n",
       "      <td>28.630960</td>\n",
       "      <td>POINT (77.21728 28.63096)</td>\n",
       "      <td>True</td>\n",
       "    </tr>\n",
       "    <tr>\n",
       "      <th>722641</th>\n",
       "      <td>1316156812798943232</td>\n",
       "      <td>2020-10-13 23:20:11</td>\n",
       "      <td>ＧＯＬＤＥＮ @ Somewhere on Planet Earth https://t.c...</td>\n",
       "      <td>77.21728 28.63096</td>\n",
       "      <td>NaN</td>\n",
       "      <td></td>\n",
       "      <td></td>\n",
       "      <td></td>\n",
       "      <td>77.217280</td>\n",
       "      <td>28.630960</td>\n",
       "      <td>POINT (77.21728 28.63096)</td>\n",
       "      <td>True</td>\n",
       "    </tr>\n",
       "  </tbody>\n",
       "</table>\n",
       "<p>46191 rows × 12 columns</p>\n",
       "</div>"
      ],
      "text/plain": [
       "                         id           created_at  \\\n",
       "12      1311073726755151882  2020-09-29 22:41:49   \n",
       "13      1311073457854189568  2020-09-29 22:40:45   \n",
       "14      1311073146590711808  2020-09-29 22:39:31   \n",
       "15      1311072899659427845  2020-09-29 22:38:32   \n",
       "16      1311072586177163271  2020-09-29 22:37:17   \n",
       "...                     ...                  ...   \n",
       "721516  1022694031954989056  2018-07-27 04:03:52   \n",
       "721519  1022446299705225217  2018-07-26 11:39:28   \n",
       "722638  1316469492860383232  2020-10-14 20:02:40   \n",
       "722639  1316338359237783552  2020-10-14 11:21:35   \n",
       "722641  1316156812798943232  2020-10-13 23:20:11   \n",
       "\n",
       "                                                     text  \\\n",
       "12      Just posted a photo @ Delhi, India https://t.c...   \n",
       "13      Just posted a photo @ Delhi, India https://t.c...   \n",
       "14      Just posted a photo @ Delhi, India https://t.c...   \n",
       "15      Just posted a photo @ Delhi, India https://t.c...   \n",
       "16      Just posted a photo @ Delhi, India https://t.c...   \n",
       "...                                                   ...   \n",
       "721516  Studio  Opening soon Freinds.. #ysipa #yuvhraj...   \n",
       "721519  Studio  Opening soon Freinds.. #ysipa #yuvhraj...   \n",
       "722638  ＧＯＬＤＥＮ @ Somewhere on Planet Earth https://t.c...   \n",
       "722639  ＳＨＩＮＥ @ Somewhere on Planet Earth https://t.co...   \n",
       "722641  ＧＯＬＤＥＮ @ Somewhere on Planet Earth https://t.c...   \n",
       "\n",
       "                   coordinates  user_described_location a  b  c         LON  \\\n",
       "12         77.219672 28.631747                      NaN           77.219672   \n",
       "13         77.219672 28.631747                      NaN           77.219672   \n",
       "14         77.219672 28.631747                      NaN           77.219672   \n",
       "15         77.219672 28.631747                      NaN           77.219672   \n",
       "16         77.219672 28.631747                      NaN           77.219672   \n",
       "...                        ...                      ... .. .. ..        ...   \n",
       "721516         77.2089 28.6139                      NaN           77.208900   \n",
       "721519     77.219672 28.631747                      NaN           77.219672   \n",
       "722638       77.21728 28.63096                      NaN           77.217280   \n",
       "722639       77.21728 28.63096                      NaN           77.217280   \n",
       "722641       77.21728 28.63096                      NaN           77.217280   \n",
       "\n",
       "              LAT                   geometry   val  \n",
       "12      28.631747  POINT (77.21967 28.63175)  True  \n",
       "13      28.631747  POINT (77.21967 28.63175)  True  \n",
       "14      28.631747  POINT (77.21967 28.63175)  True  \n",
       "15      28.631747  POINT (77.21967 28.63175)  True  \n",
       "16      28.631747  POINT (77.21967 28.63175)  True  \n",
       "...           ...                        ...   ...  \n",
       "721516  28.613900  POINT (77.20890 28.61390)  True  \n",
       "721519  28.631747  POINT (77.21967 28.63175)  True  \n",
       "722638  28.630960  POINT (77.21728 28.63096)  True  \n",
       "722639  28.630960  POINT (77.21728 28.63096)  True  \n",
       "722641  28.630960  POINT (77.21728 28.63096)  True  \n",
       "\n",
       "[46191 rows x 12 columns]"
      ]
     },
     "execution_count": 7,
     "metadata": {},
     "output_type": "execute_result"
    }
   ],
   "source": [
    "df.drop(df[df['val'] == False].index, inplace=True)\n",
    "df"
   ]
  },
  {
   "cell_type": "code",
   "execution_count": 8,
   "metadata": {},
   "outputs": [
    {
     "data": {
      "text/html": [
       "<div>\n",
       "<style scoped>\n",
       "    .dataframe tbody tr th:only-of-type {\n",
       "        vertical-align: middle;\n",
       "    }\n",
       "\n",
       "    .dataframe tbody tr th {\n",
       "        vertical-align: top;\n",
       "    }\n",
       "\n",
       "    .dataframe thead th {\n",
       "        text-align: right;\n",
       "    }\n",
       "</style>\n",
       "<table border=\"1\" class=\"dataframe\">\n",
       "  <thead>\n",
       "    <tr style=\"text-align: right;\">\n",
       "      <th></th>\n",
       "      <th>id</th>\n",
       "      <th>LAT</th>\n",
       "      <th>LON</th>\n",
       "    </tr>\n",
       "  </thead>\n",
       "  <tbody>\n",
       "    <tr>\n",
       "      <th>12</th>\n",
       "      <td>1311073726755151882</td>\n",
       "      <td>28.631747</td>\n",
       "      <td>77.219672</td>\n",
       "    </tr>\n",
       "    <tr>\n",
       "      <th>13</th>\n",
       "      <td>1311073457854189568</td>\n",
       "      <td>28.631747</td>\n",
       "      <td>77.219672</td>\n",
       "    </tr>\n",
       "    <tr>\n",
       "      <th>14</th>\n",
       "      <td>1311073146590711808</td>\n",
       "      <td>28.631747</td>\n",
       "      <td>77.219672</td>\n",
       "    </tr>\n",
       "    <tr>\n",
       "      <th>15</th>\n",
       "      <td>1311072899659427845</td>\n",
       "      <td>28.631747</td>\n",
       "      <td>77.219672</td>\n",
       "    </tr>\n",
       "    <tr>\n",
       "      <th>16</th>\n",
       "      <td>1311072586177163271</td>\n",
       "      <td>28.631747</td>\n",
       "      <td>77.219672</td>\n",
       "    </tr>\n",
       "    <tr>\n",
       "      <th>17</th>\n",
       "      <td>1311072296434630658</td>\n",
       "      <td>28.631747</td>\n",
       "      <td>77.219672</td>\n",
       "    </tr>\n",
       "    <tr>\n",
       "      <th>18</th>\n",
       "      <td>1311072000580808704</td>\n",
       "      <td>28.631747</td>\n",
       "      <td>77.219672</td>\n",
       "    </tr>\n",
       "    <tr>\n",
       "      <th>19</th>\n",
       "      <td>1311071678445899776</td>\n",
       "      <td>28.631747</td>\n",
       "      <td>77.219672</td>\n",
       "    </tr>\n",
       "    <tr>\n",
       "      <th>20</th>\n",
       "      <td>1311055983775375361</td>\n",
       "      <td>28.631747</td>\n",
       "      <td>77.219672</td>\n",
       "    </tr>\n",
       "    <tr>\n",
       "      <th>23</th>\n",
       "      <td>1311037421455159296</td>\n",
       "      <td>28.631747</td>\n",
       "      <td>77.219672</td>\n",
       "    </tr>\n",
       "  </tbody>\n",
       "</table>\n",
       "</div>"
      ],
      "text/plain": [
       "                     id        LAT        LON\n",
       "12  1311073726755151882  28.631747  77.219672\n",
       "13  1311073457854189568  28.631747  77.219672\n",
       "14  1311073146590711808  28.631747  77.219672\n",
       "15  1311072899659427845  28.631747  77.219672\n",
       "16  1311072586177163271  28.631747  77.219672\n",
       "17  1311072296434630658  28.631747  77.219672\n",
       "18  1311072000580808704  28.631747  77.219672\n",
       "19  1311071678445899776  28.631747  77.219672\n",
       "20  1311055983775375361  28.631747  77.219672\n",
       "23  1311037421455159296  28.631747  77.219672"
      ]
     },
     "execution_count": 8,
     "metadata": {},
     "output_type": "execute_result"
    }
   ],
   "source": [
    "# Variable with the Longitude and Latitude\n",
    "X=df.loc[:,['id','LAT','LON']]\n",
    "X.head(10)"
   ]
  },
  {
   "cell_type": "code",
   "execution_count": 7,
   "metadata": {},
   "outputs": [
    {
     "data": {
      "text/plain": [
       "array([[28.65638698, 77.23703704],\n",
       "       [28.65607021, 77.24079609],\n",
       "       [28.65638698, 77.23703704],\n",
       "       ...,\n",
       "       [28.56540475, 77.18439333],\n",
       "       [28.56540475, 77.18439333],\n",
       "       [28.56540475, 77.18439333]])"
      ]
     },
     "execution_count": 7,
     "metadata": {},
     "output_type": "execute_result"
    }
   ],
   "source": [
    "X.to_numpy()"
   ]
  },
  {
   "cell_type": "code",
   "execution_count": 9,
   "metadata": {},
   "outputs": [
    {
     "name": "stderr",
     "output_type": "stream",
     "text": [
      "C:\\Users\\user1\\Anaconda3\\lib\\site-packages\\statsmodels\\tools\\_testing.py:19: FutureWarning: pandas.util.testing is deprecated. Use the functions in the public API at pandas.testing instead.\n",
      "  import pandas.util.testing as tm\n"
     ]
    }
   ],
   "source": [
    "from kneed import KneeLocator\n",
    "\n",
    "\n",
    "from sklearn.cluster import KMeans, DBSCAN, MeanShift\n",
    "from sklearn.metrics import silhouette_score\n",
    "from sklearn.metrics import adjusted_rand_score\n",
    "\n",
    "\n",
    "\n",
    "\n",
    "import pandas as pd # working with data\n",
    "import numpy as np # working with arrays\n",
    "import matplotlib.pyplot as plt # visualization\n",
    "import seaborn as sb # visualization\n",
    "from mpl_toolkits.mplot3d import Axes3D # 3d plot\n",
    "from termcolor import colored as cl # text customization\n",
    "\n",
    "from sklearn.preprocessing import StandardScaler # data normalization"
   ]
  },
  {
   "cell_type": "code",
   "execution_count": 10,
   "metadata": {},
   "outputs": [
    {
     "data": {
      "image/png": "[encoded data removed]",
      "text/plain": [
       "<Figure size 432x288 with 1 Axes>"
      ]
     },
     "metadata": {
      "needs_background": "light"
     },
     "output_type": "display_data"
    }
   ],
   "source": [
    "#now i am going to check the no of cluster needed our data by using elbow method\n",
    "Error =[]\n",
    "for i in range(1, 25):\n",
    "    kmeans = KMeans(n_clusters = i).fit(X)\n",
    "    kmeans.fit(X)\n",
    "    Error.append(kmeans.inertia_)\n",
    "import matplotlib.pyplot as plt\n",
    "plt.plot(Error,range(1, 25))\n",
    "plt.title('Elbow method')\n",
    "plt.xlabel('Error')\n",
    "plt.ylabel('No of clusters')\n",
    "plt.show()"
   ]
  },
  {
   "cell_type": "code",
   "execution_count": 11,
   "metadata": {},
   "outputs": [],
   "source": [
    "K_clusters = range(1,50)\n",
    "\n",
    "kmeans = [KMeans(n_clusters=i) for i in K_clusters]\n",
    "\n",
    "Y_axis = df[['LAT']]\n",
    "X_axis = df[['LON']]\n",
    "\n",
    "score = [kmeans[i].fit(Y_axis).score(Y_axis) for i in range(len(kmeans))]"
   ]
  },
  {
   "cell_type": "code",
   "execution_count": 12,
   "metadata": {},
   "outputs": [
    {
     "data": {
      "image/png": "[encoded data removed]",
      "text/plain": [
       "<Figure size 432x288 with 1 Axes>"
      ]
     },
     "metadata": {
      "needs_background": "light"
     },
     "output_type": "display_data"
    }
   ],
   "source": [
    "plt.plot(K_clusters, score)\n",
    "plt.xlabel('Number of Clusters')\n",
    "\n",
    "plt.ylabel('Score')\n",
    "\n",
    "plt.title('Elbow Curve')\n",
    "\n",
    "plt.show()"
   ]
  },
  {
   "cell_type": "code",
   "execution_count": 14,
   "metadata": {},
   "outputs": [
    {
     "data": {
      "text/html": [
       "<div>\n",
       "<style scoped>\n",
       "    .dataframe tbody tr th:only-of-type {\n",
       "        vertical-align: middle;\n",
       "    }\n",
       "\n",
       "    .dataframe tbody tr th {\n",
       "        vertical-align: top;\n",
       "    }\n",
       "\n",
       "    .dataframe thead th {\n",
       "        text-align: right;\n",
       "    }\n",
       "</style>\n",
       "<table border=\"1\" class=\"dataframe\">\n",
       "  <thead>\n",
       "    <tr style=\"text-align: right;\">\n",
       "      <th></th>\n",
       "      <th>id</th>\n",
       "      <th>LAT</th>\n",
       "      <th>LON</th>\n",
       "      <th>cluster_label</th>\n",
       "    </tr>\n",
       "  </thead>\n",
       "  <tbody>\n",
       "    <tr>\n",
       "      <th>12</th>\n",
       "      <td>1311073726755151882</td>\n",
       "      <td>28.631747</td>\n",
       "      <td>77.219672</td>\n",
       "      <td>0</td>\n",
       "    </tr>\n",
       "    <tr>\n",
       "      <th>13</th>\n",
       "      <td>1311073457854189568</td>\n",
       "      <td>28.631747</td>\n",
       "      <td>77.219672</td>\n",
       "      <td>0</td>\n",
       "    </tr>\n",
       "    <tr>\n",
       "      <th>14</th>\n",
       "      <td>1311073146590711808</td>\n",
       "      <td>28.631747</td>\n",
       "      <td>77.219672</td>\n",
       "      <td>0</td>\n",
       "    </tr>\n",
       "    <tr>\n",
       "      <th>15</th>\n",
       "      <td>1311072899659427845</td>\n",
       "      <td>28.631747</td>\n",
       "      <td>77.219672</td>\n",
       "      <td>0</td>\n",
       "    </tr>\n",
       "    <tr>\n",
       "      <th>16</th>\n",
       "      <td>1311072586177163271</td>\n",
       "      <td>28.631747</td>\n",
       "      <td>77.219672</td>\n",
       "      <td>0</td>\n",
       "    </tr>\n",
       "    <tr>\n",
       "      <th>17</th>\n",
       "      <td>1311072296434630658</td>\n",
       "      <td>28.631747</td>\n",
       "      <td>77.219672</td>\n",
       "      <td>0</td>\n",
       "    </tr>\n",
       "    <tr>\n",
       "      <th>18</th>\n",
       "      <td>1311072000580808704</td>\n",
       "      <td>28.631747</td>\n",
       "      <td>77.219672</td>\n",
       "      <td>0</td>\n",
       "    </tr>\n",
       "    <tr>\n",
       "      <th>19</th>\n",
       "      <td>1311071678445899776</td>\n",
       "      <td>28.631747</td>\n",
       "      <td>77.219672</td>\n",
       "      <td>0</td>\n",
       "    </tr>\n",
       "    <tr>\n",
       "      <th>20</th>\n",
       "      <td>1311055983775375361</td>\n",
       "      <td>28.631747</td>\n",
       "      <td>77.219672</td>\n",
       "      <td>0</td>\n",
       "    </tr>\n",
       "    <tr>\n",
       "      <th>23</th>\n",
       "      <td>1311037421455159296</td>\n",
       "      <td>28.631747</td>\n",
       "      <td>77.219672</td>\n",
       "      <td>0</td>\n",
       "    </tr>\n",
       "  </tbody>\n",
       "</table>\n",
       "</div>"
      ],
      "text/plain": [
       "                     id        LAT        LON  cluster_label\n",
       "12  1311073726755151882  28.631747  77.219672              0\n",
       "13  1311073457854189568  28.631747  77.219672              0\n",
       "14  1311073146590711808  28.631747  77.219672              0\n",
       "15  1311072899659427845  28.631747  77.219672              0\n",
       "16  1311072586177163271  28.631747  77.219672              0\n",
       "17  1311072296434630658  28.631747  77.219672              0\n",
       "18  1311072000580808704  28.631747  77.219672              0\n",
       "19  1311071678445899776  28.631747  77.219672              0\n",
       "20  1311055983775375361  28.631747  77.219672              0\n",
       "23  1311037421455159296  28.631747  77.219672              0"
      ]
     },
     "execution_count": 14,
     "metadata": {},
     "output_type": "execute_result"
    }
   ],
   "source": [
    "kmeans = KMeans(n_clusters = 11, init ='k-means++')\n",
    "kmeans.fit(X[X.columns[1:3]]) # Compute k-means clustering.\n",
    "X['cluster_label'] = kmeans.fit_predict(X[X.columns[1:3]])\n",
    "centers = kmeans.cluster_centers_ # Coordinates of cluster centers.\n",
    "labels = kmeans.predict(X[X.columns[1:3]]) # Labels of each point\n",
    "X.head(10)"
   ]
  },
  {
   "cell_type": "code",
   "execution_count": 15,
   "metadata": {},
   "outputs": [
    {
     "name": "stdout",
     "output_type": "stream",
     "text": [
      "{0.8043227007158713}\n"
     ]
    }
   ],
   "source": [
    "from sklearn.metrics import silhouette_score\n",
    "label=kmeans.predict(X[X.columns[1:3]])\n",
    "print({silhouette_score(X[X.columns[1:3]], label)})\n"
   ]
  },
  {
   "cell_type": "code",
   "execution_count": 16,
   "metadata": {},
   "outputs": [
    {
     "data": {
      "text/plain": [
       "257175.91300942484"
      ]
     },
     "execution_count": 16,
     "metadata": {},
     "output_type": "execute_result"
    }
   ],
   "source": [
    "#Calinski Harabasz\n",
    "from sklearn.metrics import calinski_harabasz_score\n",
    "kmeans_calinski_harabasz_score = calinski_harabasz_score(X[X.columns[1:3]], label)\n",
    "kmeans_calinski_harabasz_score\n"
   ]
  },
  {
   "cell_type": "code",
   "execution_count": 17,
   "metadata": {},
   "outputs": [
    {
     "data": {
      "text/plain": [
       "0.47697382077426426"
      ]
     },
     "execution_count": 17,
     "metadata": {},
     "output_type": "execute_result"
    }
   ],
   "source": [
    "#davies_bouldin_score\n",
    "\n",
    "from sklearn.metrics import davies_bouldin_score\n",
    "\n",
    "kmeans_davies_bouldin_score = davies_bouldin_score(X[X.columns[1:3]], label)\n",
    "\n",
    "kmeans_davies_bouldin_score"
   ]
  },
  {
   "cell_type": "code",
   "execution_count": 18,
   "metadata": {},
   "outputs": [
    {
     "data": {
      "text/plain": [
       "<matplotlib.collections.PathCollection at 0x1b0c5859b48>"
      ]
     },
     "execution_count": 18,
     "metadata": {},
     "output_type": "execute_result"
    },
    {
     "data": {
      "image/png": "[encoded data removed]",
      "text/plain": [
       "<Figure size 432x288 with 2 Axes>"
      ]
     },
     "metadata": {
      "needs_background": "light"
     },
     "output_type": "display_data"
    }
   ],
   "source": [
    "X.plot.scatter(x = 'LAT', y = 'LON', c=labels, s=50, cmap='viridis')\n",
    "plt.scatter(centers[:, 0], centers[:, 1], c='black', s=200, alpha=0.5)"
   ]
  },
  {
   "cell_type": "code",
   "execution_count": 19,
   "metadata": {},
   "outputs": [
    {
     "data": {
      "text/html": [
       "<div>\n",
       "<style scoped>\n",
       "    .dataframe tbody tr th:only-of-type {\n",
       "        vertical-align: middle;\n",
       "    }\n",
       "\n",
       "    .dataframe tbody tr th {\n",
       "        vertical-align: top;\n",
       "    }\n",
       "\n",
       "    .dataframe thead th {\n",
       "        text-align: right;\n",
       "    }\n",
       "</style>\n",
       "<table border=\"1\" class=\"dataframe\">\n",
       "  <thead>\n",
       "    <tr style=\"text-align: right;\">\n",
       "      <th></th>\n",
       "      <th>id</th>\n",
       "      <th>created_at</th>\n",
       "      <th>text</th>\n",
       "      <th>coordinates</th>\n",
       "      <th>user_described_location</th>\n",
       "      <th>a</th>\n",
       "      <th>b</th>\n",
       "      <th>c</th>\n",
       "      <th>LON</th>\n",
       "      <th>LAT</th>\n",
       "      <th>geometry</th>\n",
       "      <th>val</th>\n",
       "    </tr>\n",
       "  </thead>\n",
       "  <tbody>\n",
       "    <tr>\n",
       "      <th>12</th>\n",
       "      <td>1311073726755151882</td>\n",
       "      <td>2020-09-29 22:41:49</td>\n",
       "      <td>Just posted a photo @ Delhi, India https://t.c...</td>\n",
       "      <td>77.219672 28.631747</td>\n",
       "      <td>NaN</td>\n",
       "      <td></td>\n",
       "      <td></td>\n",
       "      <td></td>\n",
       "      <td>77.219672</td>\n",
       "      <td>28.631747</td>\n",
       "      <td>POINT (77.21967 28.63175)</td>\n",
       "      <td>True</td>\n",
       "    </tr>\n",
       "    <tr>\n",
       "      <th>13</th>\n",
       "      <td>1311073457854189568</td>\n",
       "      <td>2020-09-29 22:40:45</td>\n",
       "      <td>Just posted a photo @ Delhi, India https://t.c...</td>\n",
       "      <td>77.219672 28.631747</td>\n",
       "      <td>NaN</td>\n",
       "      <td></td>\n",
       "      <td></td>\n",
       "      <td></td>\n",
       "      <td>77.219672</td>\n",
       "      <td>28.631747</td>\n",
       "      <td>POINT (77.21967 28.63175)</td>\n",
       "      <td>True</td>\n",
       "    </tr>\n",
       "    <tr>\n",
       "      <th>14</th>\n",
       "      <td>1311073146590711808</td>\n",
       "      <td>2020-09-29 22:39:31</td>\n",
       "      <td>Just posted a photo @ Delhi, India https://t.c...</td>\n",
       "      <td>77.219672 28.631747</td>\n",
       "      <td>NaN</td>\n",
       "      <td></td>\n",
       "      <td></td>\n",
       "      <td></td>\n",
       "      <td>77.219672</td>\n",
       "      <td>28.631747</td>\n",
       "      <td>POINT (77.21967 28.63175)</td>\n",
       "      <td>True</td>\n",
       "    </tr>\n",
       "    <tr>\n",
       "      <th>15</th>\n",
       "      <td>1311072899659427845</td>\n",
       "      <td>2020-09-29 22:38:32</td>\n",
       "      <td>Just posted a photo @ Delhi, India https://t.c...</td>\n",
       "      <td>77.219672 28.631747</td>\n",
       "      <td>NaN</td>\n",
       "      <td></td>\n",
       "      <td></td>\n",
       "      <td></td>\n",
       "      <td>77.219672</td>\n",
       "      <td>28.631747</td>\n",
       "      <td>POINT (77.21967 28.63175)</td>\n",
       "      <td>True</td>\n",
       "    </tr>\n",
       "    <tr>\n",
       "      <th>16</th>\n",
       "      <td>1311072586177163271</td>\n",
       "      <td>2020-09-29 22:37:17</td>\n",
       "      <td>Just posted a photo @ Delhi, India https://t.c...</td>\n",
       "      <td>77.219672 28.631747</td>\n",
       "      <td>NaN</td>\n",
       "      <td></td>\n",
       "      <td></td>\n",
       "      <td></td>\n",
       "      <td>77.219672</td>\n",
       "      <td>28.631747</td>\n",
       "      <td>POINT (77.21967 28.63175)</td>\n",
       "      <td>True</td>\n",
       "    </tr>\n",
       "  </tbody>\n",
       "</table>\n",
       "</div>"
      ],
      "text/plain": [
       "                     id           created_at  \\\n",
       "12  1311073726755151882  2020-09-29 22:41:49   \n",
       "13  1311073457854189568  2020-09-29 22:40:45   \n",
       "14  1311073146590711808  2020-09-29 22:39:31   \n",
       "15  1311072899659427845  2020-09-29 22:38:32   \n",
       "16  1311072586177163271  2020-09-29 22:37:17   \n",
       "\n",
       "                                                 text             coordinates  \\\n",
       "12  Just posted a photo @ Delhi, India https://t.c...     77.219672 28.631747   \n",
       "13  Just posted a photo @ Delhi, India https://t.c...     77.219672 28.631747   \n",
       "14  Just posted a photo @ Delhi, India https://t.c...     77.219672 28.631747   \n",
       "15  Just posted a photo @ Delhi, India https://t.c...     77.219672 28.631747   \n",
       "16  Just posted a photo @ Delhi, India https://t.c...     77.219672 28.631747   \n",
       "\n",
       "    user_described_location a b c        LON        LAT  \\\n",
       "12                      NaN        77.219672  28.631747   \n",
       "13                      NaN        77.219672  28.631747   \n",
       "14                      NaN        77.219672  28.631747   \n",
       "15                      NaN        77.219672  28.631747   \n",
       "16                      NaN        77.219672  28.631747   \n",
       "\n",
       "                     geometry   val  \n",
       "12  POINT (77.21967 28.63175)  True  \n",
       "13  POINT (77.21967 28.63175)  True  \n",
       "14  POINT (77.21967 28.63175)  True  \n",
       "15  POINT (77.21967 28.63175)  True  \n",
       "16  POINT (77.21967 28.63175)  True  "
      ]
     },
     "execution_count": 19,
     "metadata": {},
     "output_type": "execute_result"
    }
   ],
   "source": [
    "df.head(5)"
   ]
  },
  {
   "cell_type": "code",
   "execution_count": 20,
   "metadata": {},
   "outputs": [
    {
     "name": "stdout",
     "output_type": "stream",
     "text": [
      "[[28.63144458 77.21953544]\n",
      " [28.54138556 77.24506995]\n",
      " [28.94516196 77.22062514]\n",
      " [28.57056271 77.2342431 ]\n",
      " [28.52991462 77.21722189]\n",
      " [28.64780789 77.23856188]\n",
      " [28.61313776 77.20839486]\n",
      " [28.55805255 77.20151848]\n",
      " [28.51085302 77.18358128]\n",
      " [28.60198504 77.23413097]\n",
      " [28.66667993 77.21695771]]\n"
     ]
    }
   ],
   "source": [
    "centers = kmeans.cluster_centers_\n",
    "print(centers)"
   ]
  },
  {
   "cell_type": "code",
   "execution_count": null,
   "metadata": {},
   "outputs": [],
   "source": []
  },
  {
   "cell_type": "code",
   "execution_count": 21,
   "metadata": {},
   "outputs": [
    {
     "data": {
      "text/html": [
       "<div>\n",
       "<style scoped>\n",
       "    .dataframe tbody tr th:only-of-type {\n",
       "        vertical-align: middle;\n",
       "    }\n",
       "\n",
       "    .dataframe tbody tr th {\n",
       "        vertical-align: top;\n",
       "    }\n",
       "\n",
       "    .dataframe thead th {\n",
       "        text-align: right;\n",
       "    }\n",
       "</style>\n",
       "<table border=\"1\" class=\"dataframe\">\n",
       "  <thead>\n",
       "    <tr style=\"text-align: right;\">\n",
       "      <th></th>\n",
       "      <th>id</th>\n",
       "      <th>created_at</th>\n",
       "      <th>text</th>\n",
       "      <th>coordinates</th>\n",
       "      <th>user_described_location</th>\n",
       "      <th>a</th>\n",
       "      <th>b</th>\n",
       "      <th>c</th>\n",
       "      <th>LON</th>\n",
       "      <th>LAT</th>\n",
       "      <th>geometry</th>\n",
       "      <th>val</th>\n",
       "    </tr>\n",
       "  </thead>\n",
       "  <tbody>\n",
       "    <tr>\n",
       "      <th>12</th>\n",
       "      <td>1311073726755151882</td>\n",
       "      <td>2020-09-29 22:41:49</td>\n",
       "      <td>Just posted a photo @ Delhi, India https://t.c...</td>\n",
       "      <td>77.219672 28.631747</td>\n",
       "      <td>NaN</td>\n",
       "      <td></td>\n",
       "      <td></td>\n",
       "      <td></td>\n",
       "      <td>77.219672</td>\n",
       "      <td>28.631747</td>\n",
       "      <td>POINT (77.21967 28.63175)</td>\n",
       "      <td>True</td>\n",
       "    </tr>\n",
       "    <tr>\n",
       "      <th>13</th>\n",
       "      <td>1311073457854189568</td>\n",
       "      <td>2020-09-29 22:40:45</td>\n",
       "      <td>Just posted a photo @ Delhi, India https://t.c...</td>\n",
       "      <td>77.219672 28.631747</td>\n",
       "      <td>NaN</td>\n",
       "      <td></td>\n",
       "      <td></td>\n",
       "      <td></td>\n",
       "      <td>77.219672</td>\n",
       "      <td>28.631747</td>\n",
       "      <td>POINT (77.21967 28.63175)</td>\n",
       "      <td>True</td>\n",
       "    </tr>\n",
       "    <tr>\n",
       "      <th>14</th>\n",
       "      <td>1311073146590711808</td>\n",
       "      <td>2020-09-29 22:39:31</td>\n",
       "      <td>Just posted a photo @ Delhi, India https://t.c...</td>\n",
       "      <td>77.219672 28.631747</td>\n",
       "      <td>NaN</td>\n",
       "      <td></td>\n",
       "      <td></td>\n",
       "      <td></td>\n",
       "      <td>77.219672</td>\n",
       "      <td>28.631747</td>\n",
       "      <td>POINT (77.21967 28.63175)</td>\n",
       "      <td>True</td>\n",
       "    </tr>\n",
       "    <tr>\n",
       "      <th>15</th>\n",
       "      <td>1311072899659427845</td>\n",
       "      <td>2020-09-29 22:38:32</td>\n",
       "      <td>Just posted a photo @ Delhi, India https://t.c...</td>\n",
       "      <td>77.219672 28.631747</td>\n",
       "      <td>NaN</td>\n",
       "      <td></td>\n",
       "      <td></td>\n",
       "      <td></td>\n",
       "      <td>77.219672</td>\n",
       "      <td>28.631747</td>\n",
       "      <td>POINT (77.21967 28.63175)</td>\n",
       "      <td>True</td>\n",
       "    </tr>\n",
       "    <tr>\n",
       "      <th>16</th>\n",
       "      <td>1311072586177163271</td>\n",
       "      <td>2020-09-29 22:37:17</td>\n",
       "      <td>Just posted a photo @ Delhi, India https://t.c...</td>\n",
       "      <td>77.219672 28.631747</td>\n",
       "      <td>NaN</td>\n",
       "      <td></td>\n",
       "      <td></td>\n",
       "      <td></td>\n",
       "      <td>77.219672</td>\n",
       "      <td>28.631747</td>\n",
       "      <td>POINT (77.21967 28.63175)</td>\n",
       "      <td>True</td>\n",
       "    </tr>\n",
       "    <tr>\n",
       "      <th>...</th>\n",
       "      <td>...</td>\n",
       "      <td>...</td>\n",
       "      <td>...</td>\n",
       "      <td>...</td>\n",
       "      <td>...</td>\n",
       "      <td>...</td>\n",
       "      <td>...</td>\n",
       "      <td>...</td>\n",
       "      <td>...</td>\n",
       "      <td>...</td>\n",
       "      <td>...</td>\n",
       "      <td>...</td>\n",
       "    </tr>\n",
       "    <tr>\n",
       "      <th>721516</th>\n",
       "      <td>1022694031954989056</td>\n",
       "      <td>2018-07-27 04:03:52</td>\n",
       "      <td>Studio  Opening soon Freinds.. #ysipa #yuvhraj...</td>\n",
       "      <td>77.2089 28.6139</td>\n",
       "      <td>NaN</td>\n",
       "      <td></td>\n",
       "      <td></td>\n",
       "      <td></td>\n",
       "      <td>77.208900</td>\n",
       "      <td>28.613900</td>\n",
       "      <td>POINT (77.20890 28.61390)</td>\n",
       "      <td>True</td>\n",
       "    </tr>\n",
       "    <tr>\n",
       "      <th>721519</th>\n",
       "      <td>1022446299705225217</td>\n",
       "      <td>2018-07-26 11:39:28</td>\n",
       "      <td>Studio  Opening soon Freinds.. #ysipa #yuvhraj...</td>\n",
       "      <td>77.219672 28.631747</td>\n",
       "      <td>NaN</td>\n",
       "      <td></td>\n",
       "      <td></td>\n",
       "      <td></td>\n",
       "      <td>77.219672</td>\n",
       "      <td>28.631747</td>\n",
       "      <td>POINT (77.21967 28.63175)</td>\n",
       "      <td>True</td>\n",
       "    </tr>\n",
       "    <tr>\n",
       "      <th>722638</th>\n",
       "      <td>1316469492860383232</td>\n",
       "      <td>2020-10-14 20:02:40</td>\n",
       "      <td>ＧＯＬＤＥＮ @ Somewhere on Planet Earth https://t.c...</td>\n",
       "      <td>77.21728 28.63096</td>\n",
       "      <td>NaN</td>\n",
       "      <td></td>\n",
       "      <td></td>\n",
       "      <td></td>\n",
       "      <td>77.217280</td>\n",
       "      <td>28.630960</td>\n",
       "      <td>POINT (77.21728 28.63096)</td>\n",
       "      <td>True</td>\n",
       "    </tr>\n",
       "    <tr>\n",
       "      <th>722639</th>\n",
       "      <td>1316338359237783552</td>\n",
       "      <td>2020-10-14 11:21:35</td>\n",
       "      <td>ＳＨＩＮＥ @ Somewhere on Planet Earth https://t.co...</td>\n",
       "      <td>77.21728 28.63096</td>\n",
       "      <td>NaN</td>\n",
       "      <td></td>\n",
       "      <td></td>\n",
       "      <td></td>\n",
       "      <td>77.217280</td>\n",
       "      <td>28.630960</td>\n",
       "      <td>POINT (77.21728 28.63096)</td>\n",
       "      <td>True</td>\n",
       "    </tr>\n",
       "    <tr>\n",
       "      <th>722641</th>\n",
       "      <td>1316156812798943232</td>\n",
       "      <td>2020-10-13 23:20:11</td>\n",
       "      <td>ＧＯＬＤＥＮ @ Somewhere on Planet Earth https://t.c...</td>\n",
       "      <td>77.21728 28.63096</td>\n",
       "      <td>NaN</td>\n",
       "      <td></td>\n",
       "      <td></td>\n",
       "      <td></td>\n",
       "      <td>77.217280</td>\n",
       "      <td>28.630960</td>\n",
       "      <td>POINT (77.21728 28.63096)</td>\n",
       "      <td>True</td>\n",
       "    </tr>\n",
       "  </tbody>\n",
       "</table>\n",
       "<p>46191 rows × 12 columns</p>\n",
       "</div>"
      ],
      "text/plain": [
       "                         id           created_at  \\\n",
       "12      1311073726755151882  2020-09-29 22:41:49   \n",
       "13      1311073457854189568  2020-09-29 22:40:45   \n",
       "14      1311073146590711808  2020-09-29 22:39:31   \n",
       "15      1311072899659427845  2020-09-29 22:38:32   \n",
       "16      1311072586177163271  2020-09-29 22:37:17   \n",
       "...                     ...                  ...   \n",
       "721516  1022694031954989056  2018-07-27 04:03:52   \n",
       "721519  1022446299705225217  2018-07-26 11:39:28   \n",
       "722638  1316469492860383232  2020-10-14 20:02:40   \n",
       "722639  1316338359237783552  2020-10-14 11:21:35   \n",
       "722641  1316156812798943232  2020-10-13 23:20:11   \n",
       "\n",
       "                                                     text  \\\n",
       "12      Just posted a photo @ Delhi, India https://t.c...   \n",
       "13      Just posted a photo @ Delhi, India https://t.c...   \n",
       "14      Just posted a photo @ Delhi, India https://t.c...   \n",
       "15      Just posted a photo @ Delhi, India https://t.c...   \n",
       "16      Just posted a photo @ Delhi, India https://t.c...   \n",
       "...                                                   ...   \n",
       "721516  Studio  Opening soon Freinds.. #ysipa #yuvhraj...   \n",
       "721519  Studio  Opening soon Freinds.. #ysipa #yuvhraj...   \n",
       "722638  ＧＯＬＤＥＮ @ Somewhere on Planet Earth https://t.c...   \n",
       "722639  ＳＨＩＮＥ @ Somewhere on Planet Earth https://t.co...   \n",
       "722641  ＧＯＬＤＥＮ @ Somewhere on Planet Earth https://t.c...   \n",
       "\n",
       "                   coordinates  user_described_location a  b  c         LON  \\\n",
       "12         77.219672 28.631747                      NaN           77.219672   \n",
       "13         77.219672 28.631747                      NaN           77.219672   \n",
       "14         77.219672 28.631747                      NaN           77.219672   \n",
       "15         77.219672 28.631747                      NaN           77.219672   \n",
       "16         77.219672 28.631747                      NaN           77.219672   \n",
       "...                        ...                      ... .. .. ..        ...   \n",
       "721516         77.2089 28.6139                      NaN           77.208900   \n",
       "721519     77.219672 28.631747                      NaN           77.219672   \n",
       "722638       77.21728 28.63096                      NaN           77.217280   \n",
       "722639       77.21728 28.63096                      NaN           77.217280   \n",
       "722641       77.21728 28.63096                      NaN           77.217280   \n",
       "\n",
       "              LAT                   geometry   val  \n",
       "12      28.631747  POINT (77.21967 28.63175)  True  \n",
       "13      28.631747  POINT (77.21967 28.63175)  True  \n",
       "14      28.631747  POINT (77.21967 28.63175)  True  \n",
       "15      28.631747  POINT (77.21967 28.63175)  True  \n",
       "16      28.631747  POINT (77.21967 28.63175)  True  \n",
       "...           ...                        ...   ...  \n",
       "721516  28.613900  POINT (77.20890 28.61390)  True  \n",
       "721519  28.631747  POINT (77.21967 28.63175)  True  \n",
       "722638  28.630960  POINT (77.21728 28.63096)  True  \n",
       "722639  28.630960  POINT (77.21728 28.63096)  True  \n",
       "722641  28.630960  POINT (77.21728 28.63096)  True  \n",
       "\n",
       "[46191 rows x 12 columns]"
      ]
     },
     "execution_count": 21,
     "metadata": {},
     "output_type": "execute_result"
    }
   ],
   "source": [
    "import pandas as pd, numpy as np, matplotlib.pyplot as plt\n",
    "from sklearn.cluster import DBSCAN\n",
    "from geopy.distance import great_circle\n",
    "from shapely.geometry import MultiPoint\n",
    "coords = df[['LAT', 'LON']].values\n",
    "df"
   ]
  },
  {
   "cell_type": "code",
   "execution_count": 22,
   "metadata": {},
   "outputs": [
    {
     "name": "stdout",
     "output_type": "stream",
     "text": [
      "Number of clusters: 6\n"
     ]
    }
   ],
   "source": [
    "kms_per_radian = 6371.0088\n",
    "epsilon = 1.5 / kms_per_radian\n",
    "db = DBSCAN(eps=epsilon, min_samples=2, algorithm='ball_tree', metric='haversine').fit(np.radians(coords))\n",
    "cluster_labels = db.labels_\n",
    "num_clusters = len(set(cluster_labels))\n",
    "clusters = pd.Series([coords[cluster_labels == n] for n in range(num_clusters)])\n",
    "print('Number of clusters: {}'.format(num_clusters))"
   ]
  },
  {
   "cell_type": "code",
   "execution_count": 23,
   "metadata": {},
   "outputs": [
    {
     "ename": "IndexError",
     "evalue": "list index out of range",
     "output_type": "error",
     "traceback": [
      "\u001b[1;31m---------------------------------------------------------------------------\u001b[0m",
      "\u001b[1;31mIndexError\u001b[0m                                Traceback (most recent call last)",
      "\u001b[1;32m<ipython-input-23-603247548f70>\u001b[0m in \u001b[0;36m<module>\u001b[1;34m\u001b[0m\n\u001b[0;32m      3\u001b[0m     \u001b[0mcentermost_point\u001b[0m \u001b[1;33m=\u001b[0m \u001b[0mmin\u001b[0m\u001b[1;33m(\u001b[0m\u001b[0mcluster\u001b[0m\u001b[1;33m,\u001b[0m \u001b[0mkey\u001b[0m\u001b[1;33m=\u001b[0m\u001b[1;32mlambda\u001b[0m \u001b[0mpoint\u001b[0m\u001b[1;33m:\u001b[0m \u001b[0mgreat_circle\u001b[0m\u001b[1;33m(\u001b[0m\u001b[0mpoint\u001b[0m\u001b[1;33m,\u001b[0m \u001b[0mcentroid\u001b[0m\u001b[1;33m)\u001b[0m\u001b[1;33m.\u001b[0m\u001b[0mm\u001b[0m\u001b[1;33m)\u001b[0m\u001b[1;33m\u001b[0m\u001b[1;33m\u001b[0m\u001b[0m\n\u001b[0;32m      4\u001b[0m     \u001b[1;32mreturn\u001b[0m \u001b[0mtuple\u001b[0m\u001b[1;33m(\u001b[0m\u001b[0mcentermost_point\u001b[0m\u001b[1;33m)\u001b[0m\u001b[1;33m\u001b[0m\u001b[1;33m\u001b[0m\u001b[0m\n\u001b[1;32m----> 5\u001b[1;33m \u001b[0mcentermost_points\u001b[0m \u001b[1;33m=\u001b[0m \u001b[0mclusters\u001b[0m\u001b[1;33m.\u001b[0m\u001b[0mmap\u001b[0m\u001b[1;33m(\u001b[0m\u001b[0mget_centermost_point\u001b[0m\u001b[1;33m)\u001b[0m\u001b[1;33m\u001b[0m\u001b[1;33m\u001b[0m\u001b[0m\n\u001b[0m",
      "\u001b[1;32m~\\Anaconda3\\lib\\site-packages\\pandas\\core\\series.py\u001b[0m in \u001b[0;36mmap\u001b[1;34m(self, arg, na_action)\u001b[0m\n\u001b[0;32m   3980\u001b[0m         \u001b[0mdtype\u001b[0m\u001b[1;33m:\u001b[0m \u001b[0mobject\u001b[0m\u001b[1;33m\u001b[0m\u001b[1;33m\u001b[0m\u001b[0m\n\u001b[0;32m   3981\u001b[0m         \"\"\"\n\u001b[1;32m-> 3982\u001b[1;33m         \u001b[0mnew_values\u001b[0m \u001b[1;33m=\u001b[0m \u001b[0msuper\u001b[0m\u001b[1;33m(\u001b[0m\u001b[1;33m)\u001b[0m\u001b[1;33m.\u001b[0m\u001b[0m_map_values\u001b[0m\u001b[1;33m(\u001b[0m\u001b[0marg\u001b[0m\u001b[1;33m,\u001b[0m \u001b[0mna_action\u001b[0m\u001b[1;33m=\u001b[0m\u001b[0mna_action\u001b[0m\u001b[1;33m)\u001b[0m\u001b[1;33m\u001b[0m\u001b[1;33m\u001b[0m\u001b[0m\n\u001b[0m\u001b[0;32m   3983\u001b[0m         return self._constructor(new_values, index=self.index).__finalize__(\n\u001b[0;32m   3984\u001b[0m             \u001b[0mself\u001b[0m\u001b[1;33m,\u001b[0m \u001b[0mmethod\u001b[0m\u001b[1;33m=\u001b[0m\u001b[1;34m\"map\"\u001b[0m\u001b[1;33m\u001b[0m\u001b[1;33m\u001b[0m\u001b[0m\n",
      "\u001b[1;32m~\\Anaconda3\\lib\\site-packages\\pandas\\core\\base.py\u001b[0m in \u001b[0;36m_map_values\u001b[1;34m(self, mapper, na_action)\u001b[0m\n\u001b[0;32m   1158\u001b[0m \u001b[1;33m\u001b[0m\u001b[0m\n\u001b[0;32m   1159\u001b[0m         \u001b[1;31m# mapper is a function\u001b[0m\u001b[1;33m\u001b[0m\u001b[1;33m\u001b[0m\u001b[1;33m\u001b[0m\u001b[0m\n\u001b[1;32m-> 1160\u001b[1;33m         \u001b[0mnew_values\u001b[0m \u001b[1;33m=\u001b[0m \u001b[0mmap_f\u001b[0m\u001b[1;33m(\u001b[0m\u001b[0mvalues\u001b[0m\u001b[1;33m,\u001b[0m \u001b[0mmapper\u001b[0m\u001b[1;33m)\u001b[0m\u001b[1;33m\u001b[0m\u001b[1;33m\u001b[0m\u001b[0m\n\u001b[0m\u001b[0;32m   1161\u001b[0m \u001b[1;33m\u001b[0m\u001b[0m\n\u001b[0;32m   1162\u001b[0m         \u001b[1;32mreturn\u001b[0m \u001b[0mnew_values\u001b[0m\u001b[1;33m\u001b[0m\u001b[1;33m\u001b[0m\u001b[0m\n",
      "\u001b[1;32mpandas\\_libs\\lib.pyx\u001b[0m in \u001b[0;36mpandas._libs.lib.map_infer\u001b[1;34m()\u001b[0m\n",
      "\u001b[1;32m<ipython-input-23-603247548f70>\u001b[0m in \u001b[0;36mget_centermost_point\u001b[1;34m(cluster)\u001b[0m\n\u001b[0;32m      1\u001b[0m \u001b[1;32mdef\u001b[0m \u001b[0mget_centermost_point\u001b[0m\u001b[1;33m(\u001b[0m\u001b[0mcluster\u001b[0m\u001b[1;33m)\u001b[0m\u001b[1;33m:\u001b[0m\u001b[1;33m\u001b[0m\u001b[1;33m\u001b[0m\u001b[0m\n\u001b[1;32m----> 2\u001b[1;33m     \u001b[0mcentroid\u001b[0m \u001b[1;33m=\u001b[0m \u001b[1;33m(\u001b[0m\u001b[0mMultiPoint\u001b[0m\u001b[1;33m(\u001b[0m\u001b[0mcluster\u001b[0m\u001b[1;33m)\u001b[0m\u001b[1;33m.\u001b[0m\u001b[0mcentroid\u001b[0m\u001b[1;33m.\u001b[0m\u001b[0mx\u001b[0m\u001b[1;33m,\u001b[0m \u001b[0mMultiPoint\u001b[0m\u001b[1;33m(\u001b[0m\u001b[0mcluster\u001b[0m\u001b[1;33m)\u001b[0m\u001b[1;33m.\u001b[0m\u001b[0mcentroid\u001b[0m\u001b[1;33m.\u001b[0m\u001b[0my\u001b[0m\u001b[1;33m)\u001b[0m\u001b[1;33m\u001b[0m\u001b[1;33m\u001b[0m\u001b[0m\n\u001b[0m\u001b[0;32m      3\u001b[0m     \u001b[0mcentermost_point\u001b[0m \u001b[1;33m=\u001b[0m \u001b[0mmin\u001b[0m\u001b[1;33m(\u001b[0m\u001b[0mcluster\u001b[0m\u001b[1;33m,\u001b[0m \u001b[0mkey\u001b[0m\u001b[1;33m=\u001b[0m\u001b[1;32mlambda\u001b[0m \u001b[0mpoint\u001b[0m\u001b[1;33m:\u001b[0m \u001b[0mgreat_circle\u001b[0m\u001b[1;33m(\u001b[0m\u001b[0mpoint\u001b[0m\u001b[1;33m,\u001b[0m \u001b[0mcentroid\u001b[0m\u001b[1;33m)\u001b[0m\u001b[1;33m.\u001b[0m\u001b[0mm\u001b[0m\u001b[1;33m)\u001b[0m\u001b[1;33m\u001b[0m\u001b[1;33m\u001b[0m\u001b[0m\n\u001b[0;32m      4\u001b[0m     \u001b[1;32mreturn\u001b[0m \u001b[0mtuple\u001b[0m\u001b[1;33m(\u001b[0m\u001b[0mcentermost_point\u001b[0m\u001b[1;33m)\u001b[0m\u001b[1;33m\u001b[0m\u001b[1;33m\u001b[0m\u001b[0m\n\u001b[0;32m      5\u001b[0m \u001b[0mcentermost_points\u001b[0m \u001b[1;33m=\u001b[0m \u001b[0mclusters\u001b[0m\u001b[1;33m.\u001b[0m\u001b[0mmap\u001b[0m\u001b[1;33m(\u001b[0m\u001b[0mget_centermost_point\u001b[0m\u001b[1;33m)\u001b[0m\u001b[1;33m\u001b[0m\u001b[1;33m\u001b[0m\u001b[0m\n",
      "\u001b[1;32m~\\Anaconda3\\lib\\site-packages\\shapely\\geometry\\point.py\u001b[0m in \u001b[0;36mx\u001b[1;34m(self)\u001b[0m\n\u001b[0;32m     54\u001b[0m     \u001b[1;32mdef\u001b[0m \u001b[0mx\u001b[0m\u001b[1;33m(\u001b[0m\u001b[0mself\u001b[0m\u001b[1;33m)\u001b[0m\u001b[1;33m:\u001b[0m\u001b[1;33m\u001b[0m\u001b[1;33m\u001b[0m\u001b[0m\n\u001b[0;32m     55\u001b[0m         \u001b[1;34m\"\"\"Return x coordinate.\"\"\"\u001b[0m\u001b[1;33m\u001b[0m\u001b[1;33m\u001b[0m\u001b[0m\n\u001b[1;32m---> 56\u001b[1;33m         \u001b[1;32mreturn\u001b[0m \u001b[0mself\u001b[0m\u001b[1;33m.\u001b[0m\u001b[0mcoords\u001b[0m\u001b[1;33m[\u001b[0m\u001b[1;36m0\u001b[0m\u001b[1;33m]\u001b[0m\u001b[1;33m[\u001b[0m\u001b[1;36m0\u001b[0m\u001b[1;33m]\u001b[0m\u001b[1;33m\u001b[0m\u001b[1;33m\u001b[0m\u001b[0m\n\u001b[0m\u001b[0;32m     57\u001b[0m \u001b[1;33m\u001b[0m\u001b[0m\n\u001b[0;32m     58\u001b[0m     \u001b[1;33m@\u001b[0m\u001b[0mproperty\u001b[0m\u001b[1;33m\u001b[0m\u001b[1;33m\u001b[0m\u001b[0m\n",
      "\u001b[1;31mIndexError\u001b[0m: list index out of range"
     ]
    }
   ],
   "source": [
    "def get_centermost_point(cluster):\n",
    "    centroid = (MultiPoint(cluster).centroid.x, MultiPoint(cluster).centroid.y)\n",
    "    centermost_point = min(cluster, key=lambda point: great_circle(point, centroid).m)\n",
    "    return tuple(centermost_point)\n",
    "centermost_points = clusters.map(get_centermost_point)\n"
   ]
  },
  {
   "cell_type": "code",
   "execution_count": null,
   "metadata": {},
   "outputs": [],
   "source": []
  },
  {
   "cell_type": "code",
   "execution_count": null,
   "metadata": {},
   "outputs": [],
   "source": []
  },
  {
   "cell_type": "code",
   "execution_count": null,
   "metadata": {},
   "outputs": [],
   "source": [
    "lats, lons = zip(*centermost_points)\n",
    "rep_points = pd.DataFrame({'LON':lons, 'LAT':lats})\n",
    "rep_points"
   ]
  },
  {
   "cell_type": "code",
   "execution_count": null,
   "metadata": {},
   "outputs": [],
   "source": [
    "rs = rep_points.apply(lambda row: df[(df['LAT']==row['LAT']) & (df['LON']==row['LON'])].iloc[0], axis=1)"
   ]
  },
  {
   "cell_type": "code",
   "execution_count": null,
   "metadata": {},
   "outputs": [],
   "source": []
  },
  {
   "cell_type": "code",
   "execution_count": null,
   "metadata": {},
   "outputs": [],
   "source": [
    "fig, ax = plt.subplots(figsize=[10, 6])\n",
    "rs_scatter = ax.scatter(rs['LON'], rs['LAT'], c='#99cc99', edgecolor='None', alpha=0.7, s=120)\n",
    "df_scatter = ax.scatter(df['LON'], df['LAT'], c='k', alpha=0.9, s=3)\n",
    "ax.set_title('Full data set vs DBSCAN reduced set')\n",
    "ax.set_xlabel('Longitude')\n",
    "ax.set_ylabel('Latitude')\n",
    "ax.legend([df_scatter, rs_scatter], ['Full set', 'Reduced set'], loc='upper right')\n",
    "plt.show()"
   ]
  },
  {
   "cell_type": "code",
   "execution_count": null,
   "metadata": {},
   "outputs": [],
   "source": [
    "dbscan_silhouette = silhouette_score(X[X.columns[1:3]], db.labels_)\n",
    "dbscan_silhouette"
   ]
  },
  {
   "cell_type": "code",
   "execution_count": null,
   "metadata": {},
   "outputs": [],
   "source": [
    "dbscan_calinski_harabasz_score = calinski_harabasz_score(X[X.columns[1:3]], db.labels_)\n",
    "dbscan_calinski_harabasz_score\n"
   ]
  },
  {
   "cell_type": "code",
   "execution_count": null,
   "metadata": {},
   "outputs": [],
   "source": [
    "dbscan_davies_bouldin_score = davies_bouldin_score(X[X.columns[1:3]], db.labels_)\n",
    "\n",
    "dbscan_davies_bouldin_score"
   ]
  },
  {
   "cell_type": "code",
   "execution_count": 9,
   "metadata": {},
   "outputs": [],
   "source": [
    "import numpy as np\n",
    "import pandas as pd\n",
    "from sklearn.cluster import MeanShift\n",
    "\n",
    "from matplotlib import pyplot as plt\n",
    "from mpl_toolkits.mplot3d import Axes3D\n",
    "\n",
    "from sklearn.preprocessing import StandardScaler # data normalization\n",
    "from sklearn.metrics import davies_bouldin_score, calinski_harabasz_score, silhouette_score"
   ]
  },
  {
   "cell_type": "code",
   "execution_count": 10,
   "metadata": {},
   "outputs": [
    {
     "data": {
      "text/plain": [
       "MeanShift()"
      ]
     },
     "execution_count": 10,
     "metadata": {},
     "output_type": "execute_result"
    }
   ],
   "source": [
    "ms = MeanShift()\n",
    "ms.fit(X[X.columns[1:3]])"
   ]
  },
  {
   "cell_type": "code",
   "execution_count": 11,
   "metadata": {},
   "outputs": [
    {
     "data": {
      "text/plain": [
       "array([[28.62670634, 77.21780121],\n",
       "       [28.56453641, 77.22072151],\n",
       "       [28.53662674, 77.20900407],\n",
       "       [28.59145472, 77.23144157],\n",
       "       [28.71377913, 77.22334942],\n",
       "       [28.45607614, 77.18491362],\n",
       "       [28.47462477, 77.28708814],\n",
       "       [28.94481722, 77.21872258],\n",
       "       [28.9515616 , 77.2749666 ]])"
      ]
     },
     "execution_count": 11,
     "metadata": {},
     "output_type": "execute_result"
    }
   ],
   "source": [
    "ms.cluster_centers_\n"
   ]
  },
  {
   "cell_type": "code",
   "execution_count": 28,
   "metadata": {},
   "outputs": [
    {
     "data": {
      "text/plain": [
       "0.49680494481655024"
      ]
     },
     "execution_count": 28,
     "metadata": {},
     "output_type": "execute_result"
    }
   ],
   "source": [
    "meanshift_silhouette = silhouette_score(X[X.columns[1:3]], ms.labels_)\n",
    "meanshift_silhouette"
   ]
  },
  {
   "cell_type": "code",
   "execution_count": 29,
   "metadata": {},
   "outputs": [
    {
     "data": {
      "text/plain": [
       "19879.727636162843"
      ]
     },
     "execution_count": 29,
     "metadata": {},
     "output_type": "execute_result"
    }
   ],
   "source": [
    "ms_calinski_harabasz_score = calinski_harabasz_score(X[X.columns[1:3]], ms.labels_)\n",
    "ms_calinski_harabasz_score"
   ]
  },
  {
   "cell_type": "code",
   "execution_count": 30,
   "metadata": {},
   "outputs": [
    {
     "data": {
      "text/plain": [
       "0.6544927241980759"
      ]
     },
     "execution_count": 30,
     "metadata": {},
     "output_type": "execute_result"
    }
   ],
   "source": [
    "ms_davies_bouldin_score = davies_bouldin_score(X[X.columns[1:3]], ms.labels_)\n",
    "\n",
    "ms_davies_bouldin_score"
   ]
  },
  {
   "cell_type": "code",
   "execution_count": 59,
   "metadata": {},
   "outputs": [
    {
     "data": {
      "image/png": "[encoded data removed]",
      "text/plain": [
       "<Figure size 432x288 with 1 Axes>"
      ]
     },
     "metadata": {
      "needs_background": "light"
     },
     "output_type": "display_data"
    }
   ],
   "source": [
    "fig = plt.figure()\n",
    "ax = fig.add_subplot(111)\n",
    "ax.scatter(X[X.columns[1:2]], X[X.columns[2:3]], c='k', alpha=0.9, s=3)\n",
    "ax.scatter(y[:,0], y[:,1],  c='#99cc99', edgecolor='r', alpha=0.7, s=120)\n",
    "plt.show()\n"
   ]
  },
  {
   "cell_type": "code",
   "execution_count": null,
   "metadata": {},
   "outputs": [],
   "source": []
  },
  {
   "cell_type": "code",
   "execution_count": null,
   "metadata": {},
   "outputs": [],
   "source": []
  }
 ],
 "metadata": {
  "kernelspec": {
   "display_name": "Python 3",
   "language": "python",
   "name": "python3"
  },
  "language_info": {
   "codemirror_mode": {
    "name": "ipython",
    "version": 3
   },
   "file_extension": ".py",
   "mimetype": "text/x-python",
   "name": "python",
   "nbconvert_exporter": "python",
   "pygments_lexer": "ipython3",
   "version": "3.7.4"
  }
 },
 "nbformat": 4,
 "nbformat_minor": 2
}
